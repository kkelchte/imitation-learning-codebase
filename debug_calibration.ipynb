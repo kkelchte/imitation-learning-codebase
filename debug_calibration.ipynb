{
 "cells": [
  {
   "cell_type": "code",
   "execution_count": 2,
   "metadata": {},
   "outputs": [],
   "source": [
    "import h5py\n",
    "import os\n",
    "import matplotlib.pyplot as plt\n",
    "from scipy.spatial.transform import Rotation as R\n",
    "import numpy as np\n",
    "import cv2"
   ]
  },
  {
   "cell_type": "code",
   "execution_count": 21,
   "metadata": {},
   "outputs": [
    {
     "name": "stdout",
     "output_type": "stream",
     "text": [
      "Position: [-0. -0.  5.], orientation: [ 0. -0.  0.  1.]\n"
     ]
    }
   ],
   "source": [
    "data_dir = 'experimental_data/calibrate_camera'\n",
    "name = '0_0_5_0'\n",
    "data_file = os.path.join(data_dir, name, 'data.hdf5')\n",
    "data = h5py.File(data_file, 'r')['0']\n",
    "index = len(data['observation']) //2\n",
    "image = data['observation'][index]\n",
    "odometry = data['odometry'][index]\n",
    "position = np.asarray(odometry[:3]).round(2)\n",
    "orientation = np.asarray(odometry[3:]).round(2)\n",
    "print(f\"Position: {position}, orientation: {orientation}\")"
   ]
  },
  {
   "cell_type": "code",
   "execution_count": 23,
   "metadata": {},
   "outputs": [
    {
     "name": "stdout",
     "output_type": "stream",
     "text": [
      "global_to_drone_transformation: \n",
      "[[ 1.  0.  0.  0.]\n",
      " [ 0.  1.  0.  0.]\n",
      " [ 0.  0.  1. -5.]\n",
      " [ 0.  0.  0.  1.]]\n",
      "drone_to_camera_transformation: \n",
      "[[-1.   -0.   -0.    0.05]\n",
      " [-0.   -1.   -0.   -0.  ]\n",
      " [-0.   -0.   -1.   -0.1 ]\n",
      " [ 0.    0.    0.    1.  ]]\n",
      "camera_intrinsics: \n",
      "[[100   0 100]\n",
      " [  0 100 100]\n",
      " [  0   0   1]]\n",
      "point_global: [1 0 0 1]\n",
      "point_drone: [ 1.  0. -5.  1.]\n",
      "point_camera: [-0.95  0.    4.9   1.  ]\n",
      "point_image: [ 80 100]\n"
     ]
    },
    {
     "data": {
      "image/png": "[encoded data removed]",
      "text/plain": [
       "<Figure size 432x288 with 1 Axes>"
      ]
     },
     "metadata": {
      "needs_background": "light"
     },
     "output_type": "display_data"
    },
    {
     "data": {
      "image/png": "[encoded data removed]",
      "text/plain": [
       "<Figure size 432x288 with 1 Axes>"
      ]
     },
     "metadata": {
      "needs_background": "light"
     },
     "output_type": "display_data"
    }
   ],
   "source": [
    "global_to_drone_transformation = np.identity(4)\n",
    "global_to_drone_transformation[:3, :3] = R.from_quat(orientation).as_matrix()\n",
    "global_to_drone_transformation[:3, 3] = position\n",
    "global_to_drone_transformation = np.linalg.inv(global_to_drone_transformation)\n",
    "print(f\"global_to_drone_transformation: \\n{global_to_drone_transformation}\")\n",
    "\n",
    "drone_to_camera_transformation = np.identity(4)\n",
    "drone_to_camera_transformation[:3, :3] = -np.identity(3)\n",
    "drone_to_camera_transformation[:3, 3] = [0.05, 0, -0.1]\n",
    "drone_to_camera_transformation = np.linalg.inv(drone_to_camera_transformation)\n",
    "print(f\"drone_to_camera_transformation: \\n{drone_to_camera_transformation}\")\n",
    "\n",
    "camera_intrinsics = np.asarray([[100, 0, 100], [0, 100, 100], [0, 0, 1]])\n",
    "print(f\"camera_intrinsics: \\n{camera_intrinsics}\")\n",
    "\n",
    "point_global = np.asarray([1, 0, 0, 1])\n",
    "print(f\"point_global: {point_global}\")\n",
    "point_drone = np.matmul(global_to_drone_transformation, point_global)\n",
    "print(f\"point_drone: {point_drone}\")\n",
    "point_camera = np.matmul(drone_to_camera_transformation, point_drone)\n",
    "print(f\"point_camera: {point_camera}\")\n",
    "point_image = np.matmul(camera_intrinsics, point_camera[:3])\n",
    "point_image /= point_image[2]\n",
    "point_image = point_image[:2].astype(np.int32)\n",
    "print(f\"point_image: {point_image}\")\n",
    "\n",
    "plt.imshow(image)\n",
    "plt.show()\n",
    "cv2.circle(image, point_image, radius=5, color=(1, 0, 0), thickness=2)\n",
    "plt.imshow(image)\n",
    "plt.show()"
   ]
  }
 ],
 "metadata": {
  "interpreter": {
   "hash": "20b1509622396b1ff58dac57399cc07d16f532889a2cc6221da0e67609b46d1e"
  },
  "kernelspec": {
   "display_name": "Python 3.8.2 64-bit ('venv': conda)",
   "language": "python",
   "name": "python3"
  },
  "language_info": {
   "codemirror_mode": {
    "name": "ipython",
    "version": 3
   },
   "file_extension": ".py",
   "mimetype": "text/x-python",
   "name": "python",
   "nbconvert_exporter": "python",
   "pygments_lexer": "ipython3",
   "version": "3.8.2"
  },
  "orig_nbformat": 4
 },
 "nbformat": 4,
 "nbformat_minor": 2
}
