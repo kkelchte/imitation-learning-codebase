{
 "cells": [
  {
   "cell_type": "code",
   "execution_count": 1,
   "metadata": {},
   "outputs": [],
   "source": [
    "import os\n",
    "import importlib\n",
    "\n",
    "from src.data.data_loader import DataLoader, DataLoaderConfig\n",
    "from src.core.utils import get_filename_without_extension, get_data_dir\n",
    "from src.data.data_saver import DataSaverConfig, DataSaver\n",
    "from src.data.test.common_utils import generate_dummy_dataset\n",
    "from src.data.utils import arrange_run_according_timestamps, calculate_weights, select\n"
   ]
  },
  {
   "cell_type": "code",
   "execution_count": 9,
   "metadata": {},
   "outputs": [
    {
     "name": "stdout",
     "output_type": "stream",
     "text": [
      "data_loader - INFO - Started.\n",
      "data_loader - INFO - Loaded 321 data points from 1 directories\n"
     ]
    }
   ],
   "source": [
    "output_path = f'{os.environ[\"DATADIR\"]}/test_circle_world'\n",
    "config_dict = {\n",
    "            'data_directories': [f'{output_path}/raw_data/21-02-15_17-03-55_expert'],\n",
    "            'output_path': output_path,\n",
    "        }\n",
    "config = DataLoaderConfig().create(config_dict=config_dict)\n",
    "\n",
    "data_loader = DataLoader(config=config)\n",
    "data_loader.load_dataset()\n",
    "dataset = data_loader.get_dataset()"
   ]
  },
  {
   "cell_type": "code",
   "execution_count": null,
   "metadata": {},
   "outputs": [],
   "source": [
    "# 1. extract relative goal point from pose and waypoint\n",
    "\n",
    "# 2. normalize relative direction to have a fixed distance\n",
    "\n",
    "# 3. map upper quarter of crossing with relative direction\n",
    "\n",
    "# 4. extract derivative for linear projection\n",
    "\n",
    "# 5. (outside of this notebook): combine direction extractor\n",
    "\n",
    "# 6e. redo steps with big line dataset?\n"
   ]
  }
 ],
 "metadata": {
  "kernelspec": {
   "display_name": "Python 3",
   "language": "python",
   "name": "python3"
  },
  "language_info": {
   "codemirror_mode": {
    "name": "ipython",
    "version": 3
   },
   "file_extension": ".py",
   "mimetype": "text/x-python",
   "name": "python",
   "nbconvert_exporter": "python",
   "pygments_lexer": "ipython3",
   "version": "3.8.2"
  }
 },
 "nbformat": 4,
 "nbformat_minor": 4
}
