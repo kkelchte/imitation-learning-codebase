{
 "cells": [
  {
   "cell_type": "code",
   "execution_count": 1,
   "metadata": {},
   "outputs": [],
   "source": [
    "import os\n",
    "import shutil\n",
    "import unittest\n",
    "from copy import deepcopy\n",
    "\n",
    "import torch\n",
    "import torch.nn as nn\n",
    "import numpy as np\n",
    "\n",
    "from src.ai.base_net import ArchitectureConfig, BaseNet\n",
    "from src.ai.utils import mlp_creator, generate_random_dataset_in_raw_data\n",
    "from src.core.utils import get_to_root_dir, get_filename_without_extension, generate_random_image\n",
    "from src.ai.architectures import *  # Do not remove"
   ]
  },
  {
   "cell_type": "code",
   "execution_count": 27,
   "metadata": {},
   "outputs": [
    {
     "name": "stdout",
     "output_type": "stream",
     "text": [
      "dronet - INFO - Started.\n"
     ]
    }
   ],
   "source": [
    "output_path = \"dronet_sidetuned\"\n",
    "architecture_base_config = {\n",
    "    \"output_path\": output_path,\n",
    "    \"architecture\": \"dronet\",\n",
    "}\n",
    "network = eval(architecture_base_config['architecture']).Net(\n",
    "            config=ArchitectureConfig().create(config_dict=architecture_base_config)\n",
    "        )\n",
    "checkpoint_file = os.path.join(os.environ['DATADIR'], 'dronet', 'torch_checkpoints', 'checkpoint_latest.ckpt')\n",
    "checkpoint = torch.load(checkpoint_file, map_location=torch.device('cpu'))\n",
    "network.load_checkpoint(checkpoint['net_ckpt'])\n",
    "first_weight_checksum = network.conv2d_1.weight.data.sum().item()\n",
    "feature_extraction = [ch for ch in network.children()][:-1]"
   ]
  },
  {
   "cell_type": "code",
   "execution_count": 29,
   "metadata": {},
   "outputs": [],
   "source": [
    "from src.ai.architectures.dronet_sidetuned import Net"
   ]
  },
  {
   "cell_type": "code",
   "execution_count": 49,
   "metadata": {},
   "outputs": [
    {
     "name": "stdout",
     "output_type": "stream",
     "text": [
      "dronet_sidetuned - INFO - Started.\n",
      "dronet_sidetuned - INFO - Started.\n"
     ]
    }
   ],
   "source": [
    "architecture_base_config['architecture'] = 'dronet_sidetuned'\n",
    "sidetuned_network = Net(ArchitectureConfig().create(config_dict=architecture_base_config))\n",
    "sidetuned_feature_extraction = [ch for ch in sidetuned_network.children()][:-1]"
   ]
  },
  {
   "cell_type": "code",
   "execution_count": 87,
   "metadata": {},
   "outputs": [
    {
     "data": {
      "text/plain": [
       "-5.570544719696045"
      ]
     },
     "execution_count": 87,
     "metadata": {},
     "output_type": "execute_result"
    }
   ],
   "source": [
    "sidetuned_network.conv2d_1.weight.data.sum().item()"
   ]
  },
  {
   "cell_type": "code",
   "execution_count": 88,
   "metadata": {},
   "outputs": [
    {
     "name": "stdout",
     "output_type": "stream",
     "text": [
      "\n",
      "\n",
      "Conv2d(1, 32, kernel_size=(5, 5), stride=(2, 2), padding=(1, 1))\n",
      "torch.Size([32, 1, 5, 5])\n",
      "torch.Size([32])\n",
      "\n",
      "\n",
      "MaxPool2d(kernel_size=3, stride=2, padding=0, dilation=1, ceil_mode=False)\n",
      "\n",
      "\n",
      "BatchNorm2d(32, eps=1e-05, momentum=0.1, affine=True, track_running_stats=True)\n",
      "torch.Size([32])\n",
      "torch.Size([32])\n",
      "\n",
      "\n",
      "Conv2d(32, 32, kernel_size=(3, 3), stride=(2, 2), padding=(1, 1))\n",
      "torch.Size([32, 32, 3, 3])\n",
      "torch.Size([32])\n",
      "\n",
      "\n",
      "BatchNorm2d(32, eps=1e-05, momentum=0.1, affine=True, track_running_stats=True)\n",
      "torch.Size([32])\n",
      "torch.Size([32])\n",
      "\n",
      "\n",
      "Conv2d(32, 32, kernel_size=(3, 3), stride=(1, 1), padding=(1, 1))\n",
      "torch.Size([32, 32, 3, 3])\n",
      "torch.Size([32])\n",
      "\n",
      "\n",
      "Conv2d(32, 32, kernel_size=(1, 1), stride=(2, 2))\n",
      "torch.Size([32, 32, 1, 1])\n",
      "torch.Size([32])\n",
      "\n",
      "\n",
      "BatchNorm2d(32, eps=1e-05, momentum=0.1, affine=True, track_running_stats=True)\n",
      "torch.Size([32])\n",
      "torch.Size([32])\n",
      "\n",
      "\n",
      "Conv2d(32, 64, kernel_size=(3, 3), stride=(2, 2), padding=(1, 1))\n",
      "torch.Size([64, 32, 3, 3])\n",
      "torch.Size([64])\n",
      "\n",
      "\n",
      "BatchNorm2d(64, eps=1e-05, momentum=0.1, affine=True, track_running_stats=True)\n",
      "torch.Size([64])\n",
      "torch.Size([64])\n",
      "\n",
      "\n",
      "Conv2d(64, 64, kernel_size=(3, 3), stride=(1, 1), padding=(1, 1))\n",
      "torch.Size([64, 64, 3, 3])\n",
      "torch.Size([64])\n",
      "\n",
      "\n",
      "Conv2d(32, 64, kernel_size=(1, 1), stride=(2, 2))\n",
      "torch.Size([64, 32, 1, 1])\n",
      "torch.Size([64])\n",
      "\n",
      "\n",
      "BatchNorm2d(64, eps=1e-05, momentum=0.1, affine=True, track_running_stats=True)\n",
      "torch.Size([64])\n",
      "torch.Size([64])\n",
      "\n",
      "\n",
      "Conv2d(64, 128, kernel_size=(3, 3), stride=(2, 2), padding=(1, 1))\n",
      "torch.Size([128, 64, 3, 3])\n",
      "torch.Size([128])\n",
      "\n",
      "\n",
      "BatchNorm2d(128, eps=1e-05, momentum=0.1, affine=True, track_running_stats=True)\n",
      "torch.Size([128])\n",
      "torch.Size([128])\n",
      "\n",
      "\n",
      "Conv2d(128, 128, kernel_size=(3, 3), stride=(1, 1), padding=(1, 1))\n",
      "torch.Size([128, 128, 3, 3])\n",
      "torch.Size([128])\n",
      "\n",
      "\n",
      "Conv2d(64, 128, kernel_size=(1, 1), stride=(2, 2))\n",
      "torch.Size([128, 64, 1, 1])\n",
      "torch.Size([128])\n",
      "\n",
      "\n",
      "Conv2d(1, 32, kernel_size=(5, 5), stride=(2, 2), padding=(1, 1))\n",
      "torch.Size([32, 1, 5, 5])\n",
      "torch.Size([32])\n",
      "\n",
      "\n",
      "MaxPool2d(kernel_size=3, stride=2, padding=0, dilation=1, ceil_mode=False)\n",
      "\n",
      "\n",
      "BatchNorm2d(32, eps=1e-05, momentum=0.1, affine=True, track_running_stats=True)\n",
      "torch.Size([32])\n",
      "torch.Size([32])\n",
      "\n",
      "\n",
      "Conv2d(32, 32, kernel_size=(3, 3), stride=(2, 2), padding=(1, 1))\n",
      "torch.Size([32, 32, 3, 3])\n",
      "torch.Size([32])\n",
      "\n",
      "\n",
      "BatchNorm2d(32, eps=1e-05, momentum=0.1, affine=True, track_running_stats=True)\n",
      "torch.Size([32])\n",
      "torch.Size([32])\n",
      "\n",
      "\n",
      "Conv2d(32, 32, kernel_size=(3, 3), stride=(1, 1), padding=(1, 1))\n",
      "torch.Size([32, 32, 3, 3])\n",
      "torch.Size([32])\n",
      "\n",
      "\n",
      "Conv2d(32, 32, kernel_size=(1, 1), stride=(2, 2))\n",
      "torch.Size([32, 32, 1, 1])\n",
      "torch.Size([32])\n",
      "\n",
      "\n",
      "BatchNorm2d(32, eps=1e-05, momentum=0.1, affine=True, track_running_stats=True)\n",
      "torch.Size([32])\n",
      "torch.Size([32])\n",
      "\n",
      "\n",
      "Conv2d(32, 64, kernel_size=(3, 3), stride=(2, 2), padding=(1, 1))\n",
      "torch.Size([64, 32, 3, 3])\n",
      "torch.Size([64])\n",
      "\n",
      "\n",
      "BatchNorm2d(64, eps=1e-05, momentum=0.1, affine=True, track_running_stats=True)\n",
      "torch.Size([64])\n",
      "torch.Size([64])\n",
      "\n",
      "\n",
      "Conv2d(64, 64, kernel_size=(3, 3), stride=(1, 1), padding=(1, 1))\n",
      "torch.Size([64, 64, 3, 3])\n",
      "torch.Size([64])\n",
      "\n",
      "\n",
      "Conv2d(32, 64, kernel_size=(1, 1), stride=(2, 2))\n",
      "torch.Size([64, 32, 1, 1])\n",
      "torch.Size([64])\n",
      "\n",
      "\n",
      "BatchNorm2d(64, eps=1e-05, momentum=0.1, affine=True, track_running_stats=True)\n",
      "torch.Size([64])\n",
      "torch.Size([64])\n",
      "\n",
      "\n",
      "Conv2d(64, 128, kernel_size=(3, 3), stride=(2, 2), padding=(1, 1))\n",
      "torch.Size([128, 64, 3, 3])\n",
      "torch.Size([128])\n",
      "\n",
      "\n",
      "BatchNorm2d(128, eps=1e-05, momentum=0.1, affine=True, track_running_stats=True)\n",
      "torch.Size([128])\n",
      "torch.Size([128])\n",
      "\n",
      "\n",
      "Conv2d(128, 128, kernel_size=(3, 3), stride=(1, 1), padding=(1, 1))\n",
      "torch.Size([128, 128, 3, 3])\n",
      "torch.Size([128])\n"
     ]
    }
   ],
   "source": [
    "# Initialize two feature extraction part \n",
    "for sidetuned_network_part in [sidetuned_feature_extraction[:17], \n",
    "                              sidetuned_feature_extraction[17:-1]]:\n",
    "    for index, layer in enumerate(sidetuned_network_part):\n",
    "        print(f'\\n\\n{layer}')\n",
    "        for element in ['weight', 'bias']:\n",
    "            if hasattr(layer, element):\n",
    "                print(layer._parameters[element].shape)\n",
    "                layer._parameters[element] = feature_extraction[index]._parameters[element].detach().clone()\n",
    "        if hasattr(layer, 'running_mean'):\n",
    "            layer.running_mean = feature_extraction[index].running_mean\n",
    "        if hasattr(layer, 'running_var'):\n",
    "            layer.running_var = feature_extraction[index].running_var\n",
    "assert sidetuned_network.conv2d_1.weight.data.sum().item() == first_weight_checksum\n",
    "assert sidetuned_network.sidetune_conv2d_1.weight.data.sum().item() == first_weight_checksum\n",
    "\n"
   ]
  },
  {
   "cell_type": "code",
   "execution_count": 99,
   "metadata": {},
   "outputs": [],
   "source": [
    "sidetune_checkpoint = {'net_ckpt': sidetuned_network.get_checkpoint()}"
   ]
  },
  {
   "cell_type": "code",
   "execution_count": 97,
   "metadata": {},
   "outputs": [
    {
     "data": {
      "text/plain": [
       "'dronet_sidetuned/torch_checkpoints/checkpoint_latest.ckpt'"
      ]
     },
     "execution_count": 97,
     "metadata": {},
     "output_type": "execute_result"
    }
   ],
   "source": [
    "checkpoint_file"
   ]
  },
  {
   "cell_type": "code",
   "execution_count": 100,
   "metadata": {},
   "outputs": [],
   "source": [
    "checkpoint_file = os.path.join(os.environ['DATADIR'], architecture_base_config['output_path'], 'torch_checkpoints', 'checkpoint_latest.ckpt')\n",
    "os.makedirs(os.path.dirname(checkpoint_file), exist_ok=True)\n",
    "torch.save(sidetune_checkpoint, checkpoint_file)"
   ]
  },
  {
   "cell_type": "code",
   "execution_count": 96,
   "metadata": {},
   "outputs": [
    {
     "name": "stdout",
     "output_type": "stream",
     "text": [
      "dronet_sidetuned - INFO - Started.\n"
     ]
    }
   ],
   "source": [
    "# test loading of checkpoint\n",
    "test_network = Net(ArchitectureConfig().create(config_dict=architecture_base_config))\n",
    "test_checkpoint = torch.load(checkpoint_file, map_location=torch.device('cpu'))\n",
    "test_network.load_checkpoint(test_checkpoint['net_ckpt'])\n",
    "assert test_network.conv2d_1.weight.data.sum().item() == first_weight_checksum"
   ]
  }
 ],
 "metadata": {
  "kernelspec": {
   "display_name": "Python 3",
   "language": "python",
   "name": "python3"
  },
  "language_info": {
   "codemirror_mode": {
    "name": "ipython",
    "version": 3
   },
   "file_extension": ".py",
   "mimetype": "text/x-python",
   "name": "python",
   "nbconvert_exporter": "python",
   "pygments_lexer": "ipython3",
   "version": "3.8.3rc1"
  }
 },
 "nbformat": 4,
 "nbformat_minor": 4
}
