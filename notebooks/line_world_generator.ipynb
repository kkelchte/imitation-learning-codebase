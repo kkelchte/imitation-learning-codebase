{
 "cells": [
  {
   "cell_type": "code",
   "execution_count": 1,
   "metadata": {},
   "outputs": [],
   "source": [
    "import os\n",
    "from shutil import copyfile\n",
    "import yaml\n",
    "\n",
    "import xml.etree.ElementTree as ET\n",
    "import numpy as np\n",
    "import matplotlib.pyplot as plt\n",
    "from scipy import interpolate\n",
    "from scipy.interpolate import CubicSpline"
   ]
  },
  {
   "cell_type": "code",
   "execution_count": 25,
   "metadata": {},
   "outputs": [
    {
     "name": "stdout",
     "output_type": "stream",
     "text": [
      "[[0.0, 0.0], [0.04894348370484647, 0.3090169943749474], [0.26468816542991247, 0.6208232223238989], [0.5019885800493985, 1.0998487522256688], [0.8450032970292549, 1.2380797169672486], [1.2160620255245633, 1.0751998073058586], [1.5253663318453599, 1.0265757438845495], [1.5902920966448222, 0.9859690212220955], [1.988377093709754, 0.6109143779696932], [1.9922361069047212, 0.3244956328815299], [2.2901672852542525, 0.08515119979459561], [2.01340372579586, -0.4712882765562675], [1.8449043510150425, -0.7001632023983063], [1.850522299553958, -0.8399988040486873], [1.3954494406225195, -1.2343380725777582], [1.2869281019344152, -1.1881767962379404], [0.8454057130918371, -1.1996480986234983], [0.5647378293314572, -0.8938774470463045], [0.19098300562505266, -0.5877852522924734], [0.04894348370484647, -0.3090169943749476]]\n"
     ]
    },
    {
     "data": {
      "image/png": "[encoded data removed]",
      "text/plain": [
       "<Figure size 432x288 with 1 Axes>"
      ]
     },
     "metadata": {
      "needs_background": "light"
     },
     "output_type": "display_data"
    }
   ],
   "source": [
    "output_path = os.environ['DATADIR'] + '/create_line_world'\n",
    "os.makedirs(output_path, exist_ok=True)\n",
    "number_of_points = 20\n",
    "dev = 0.3\n",
    "\n",
    "# start from loop\n",
    "t = np.arange(0, 1., 1/number_of_points)\n",
    "xo = -np.cos(2*np.pi*t) + 1\n",
    "yo = np.sin(2*np.pi*t)\n",
    "\n",
    "# deviate points with noise\n",
    "x = [exo + np.sign(exo) * np.random.uniform(0, dev) * (i!=0 and i != 1 and i!=(len(xo)-1) and i!=(len(xo)-2)) for i, exo in enumerate(xo)]\n",
    "y = [eyo + np.sign(eyo) * np.random.uniform(0, dev) * (i!=0 and i != 1 and i!=(len(yo)-1) and i!=(len(yo)-2)) for i, eyo in enumerate(yo)]\n",
    "x += [x[0]]\n",
    "y += [y[0]]\n",
    "waypoints = [[x[i], y[i]] for i in range(len(x)-1)]\n",
    "print(waypoints)\n",
    "\n",
    "plt.figure()\n",
    "plt.plot(xo[:5], yo[:5], 'x')\n",
    "\n",
    "tck, u = interpolate.splprep([x, y], s=0, k=3, per=True)\n",
    "unew = np.arange(0, 1.01, 1/(10*number_of_points))\n",
    "out = interpolate.splev(unew, tck)\n",
    "plt.plot(out[0], out[1])#, np.sin(2*np.pi*unew), np.cos(2*np.pi*unew), x, y, 'b')\n",
    "plt.show()\n",
    "\n"
   ]
  },
  {
   "cell_type": "code",
   "execution_count": 3,
   "metadata": {},
   "outputs": [],
   "source": [
    "# Use interpolated points to connect tiny cylinders in gazebo\n",
    "\n",
    "r = 0.01\n",
    "l = 0.06\n",
    "\n",
    "# Load empty world:\n",
    "world_dir = 'src/sim/ros/gazebo/worlds'\n",
    "tree = ET.parse(os.path.join(os.environ['PWD'], world_dir, 'empty.world'))\n",
    "root = tree.getroot()\n",
    "world = root.find('world')\n",
    "\n",
    "# add model to world\n",
    "model = ET.SubElement(world, 'model', attrib={'name': 'line'})\n",
    "\n",
    "# Place small cylinders in one model\n",
    "x_coords, y_coords = out\n",
    "for index, (x, y) in enumerate(zip(x_coords, y_coords)):\n",
    "    link=ET.SubElement(model, 'link', attrib={'name':f'link_{index}'})\n",
    "    pose = ET.SubElement(link, 'pose', attrib={'frame':''})\n",
    "    \n",
    "    next_x = x_coords[(index + 1) % len(x_coords)]\n",
    "    next_y = y_coords[(index + 1) % len(x_coords)]\n",
    "    derivative = (next_y - y)/(next_x - x)\n",
    "    slope = np.arctan(derivative)\n",
    "    pose.text = f'{x} {y} {r} 0 1.57 {slope}'\n",
    "    collision = ET.SubElement(link, 'collision', attrib={'name':'collision'})\n",
    "    visual = ET.SubElement(link, 'visual', attrib={'name':'visual'})\n",
    "    material = ET.SubElement(visual,'material')\n",
    "    script = ET.SubElement(material,'script')\n",
    "    name = ET.SubElement(script,'name')\n",
    "    name.text='Gazebo/Blue'\n",
    "    uri = ET.SubElement(script,'uri')\n",
    "    uri.text='file://media/materials/scripts/gazebo.material'\n",
    "    for element in [collision,visual]: \n",
    "        geo = ET.SubElement(element, 'geometry')\n",
    "        cylinder = ET.SubElement(geo, 'cylinder')\n",
    "        radius = ET.SubElement(cylinder, 'radius')\n",
    "        radius.text=str(r)\n",
    "        length = ET.SubElement(cylinder, 'length')\n",
    "        length.text=str(l)\n",
    "\n",
    "# Store world\n",
    "model_name = f'model_{sum(x_coords)}'\n",
    "world_dir = 'src/sim/ros/gazebo/worlds'\n",
    "os.makedirs(os.path.join(os.environ['PWD'], world_dir, 'line_worlds'), exist_ok=True)\n",
    "tree.write(os.path.join(os.environ['PWD'], world_dir, 'line_worlds', model_name + '.world'), encoding=\"us-ascii\", xml_declaration=True, method=\"xml\")\n"
   ]
  },
  {
   "cell_type": "code",
   "execution_count": 11,
   "metadata": {},
   "outputs": [],
   "source": [
    "# Create world config with waypoints\n",
    "world_config_dir = 'src/sim/ros/config/world'\n",
    "config = {\n",
    "    'world_name': model_name,\n",
    "    'max_duration': 300,\n",
    "    'starting_height': 0.5,\n",
    "    'delay_evaluation': 1,\n",
    "    'waypoints': [[float(w[0]), float(w[1])] for w in waypoints],\n",
    "    'waypoint_reached_distance': 0.2,\n",
    "    'goal': {\n",
    "        'x': {'min': float(waypoints[-1][0]) - 0.3,\n",
    "              'max': float(waypoints[-1][0]) + 0.3},\n",
    "        'y': {'min': float(waypoints[-1][1]) - 0.3,\n",
    "              'max': float(waypoints[-1][1]) + 0.3},\n",
    "        'z': {'min': 0.3,\n",
    "              'max': 0.8},\n",
    "    }\n",
    "}\n",
    "\n",
    "os.makedirs(os.path.join(os.environ['PWD'], world_config_dir, 'line_worlds'), exist_ok=True)\n",
    "with open(os.path.join(os.environ['PWD'], world_config_dir, 'line_worlds', model_name + '.yml'), 'w') as f:\n",
    "    yaml.dump(config, f)\n"
   ]
  },
  {
   "cell_type": "code",
   "execution_count": 9,
   "metadata": {},
   "outputs": [
    {
     "data": {
      "text/plain": [
       "[[0.0, 0.0],\n",
       " [0.04894348370484647, 0.3090169943749474],\n",
       " [0.46315340962163504, 0.7650786822120781],\n",
       " [0.6431455415921046, 0.976386707786975],\n",
       " [0.8239877157749642, 1.1921047920961372],\n",
       " [1.2078682587154994, 1.2859714873399017],\n",
       " [1.557243528490979, 0.9966184048650034],\n",
       " [1.7128811922183076, 0.844032238043152],\n",
       " [1.834588247481981, 0.6890159160380466],\n",
       " [1.9865754154978674, 0.5141618686417417],\n",
       " [2.209453276332262, 0.025847543518018577],\n",
       " [2.0499125003951293, -0.3753169330883018],\n",
       " [1.9246745493127149, -0.6703745656275261],\n",
       " [1.790918868316677, -0.8220244976363261],\n",
       " [1.3507281729696856, -1.041181807643188],\n",
       " [1.2945190648688354, -1.0744896412610545],\n",
       " [0.7769019361668801, -0.985952357955942],\n",
       " [0.466280923433653, -1.0967159184547013],\n",
       " [0.19098300562505266, -0.5877852522924734],\n",
       " [0.04894348370484647, -0.3090169943749476]]"
      ]
     },
     "execution_count": 9,
     "metadata": {},
     "output_type": "execute_result"
    }
   ],
   "source": [
    "waypoints"
   ]
  }
 ],
 "metadata": {
  "kernelspec": {
   "display_name": "Python 3",
   "language": "python",
   "name": "python3"
  },
  "language_info": {
   "codemirror_mode": {
    "name": "ipython",
    "version": 3
   },
   "file_extension": ".py",
   "mimetype": "text/x-python",
   "name": "python",
   "nbconvert_exporter": "python",
   "pygments_lexer": "ipython3",
   "version": "3.8.3rc1"
  }
 },
 "nbformat": 4,
 "nbformat_minor": 4
}
